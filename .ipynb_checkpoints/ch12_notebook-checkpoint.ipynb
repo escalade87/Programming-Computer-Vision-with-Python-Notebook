{
 "cells": [
  {
   "cell_type": "code",
   "execution_count": null,
   "metadata": {},
   "outputs": [],
   "source": [
    "from PIL import Image\n",
    "from pylab import *\n",
    "# import matplotlib.pyplot as pl\n",
    "# read image to array\n",
    "im = array(Image.open('data/empire.jpg'))\n",
    "# plot the image\n",
    "imshow(im)\n",
    "# some points\n",
    "x = [100,100,400,400]\n",
    "y = [200,500,200,500]\n",
    "# plot the points with red star-markers\n",
    "plot(x,y,'ks:')\n",
    "# line plot connecting the first two points\n",
    "plot(x[:2],y[:2])\n",
    "# add title and show the plot\n",
    "title('Plotting: \"empire.jpg\"')\n",
    "show()\n",
    "#plot(x,y) # default blue solid line\n",
    "#plot(x,y,’r*’) # red star-markers\n",
    "#plot(x,y,’go-’) # green line with circle-markers\n",
    "#plot(x,y,’ks:’) # black dotted line with square-markers"
   ]
  },
  {
   "cell_type": "code",
   "execution_count": null,
   "metadata": {},
   "outputs": [],
   "source": [
    "# read image to array\n",
    "im = array(Image.open('data/empire.jpg').convert('L'))\n",
    "# create a new figure\n",
    "figure()\n",
    "# don’t use colors\n",
    "gray()\n",
    "imshow(im)\n",
    "figure()\n",
    "# show contours with origin upper left corner\n",
    "contour(im, origin='image')\n",
    "axis('equal')\n",
    "axis('off')\n",
    "show()"
   ]
  },
  {
   "cell_type": "code",
   "execution_count": null,
   "metadata": {},
   "outputs": [],
   "source": [
    "figure()\n",
    "hist(im.flatten(),128)\n",
    "show()"
   ]
  },
  {
   "cell_type": "code",
   "execution_count": null,
   "metadata": {
    "scrolled": true
   },
   "outputs": [],
   "source": [
    "figure()\n",
    "imshow(im)\n",
    "print(\"Please click 3 points\")\n",
    "#x = ginput(3)\n",
    "#print(\"you clicked:\",x)\n",
    "show()"
   ]
  },
  {
   "cell_type": "code",
   "execution_count": null,
   "metadata": {},
   "outputs": [],
   "source": []
  },
  {
   "cell_type": "code",
   "execution_count": null,
   "metadata": {},
   "outputs": [],
   "source": []
  }
 ],
 "metadata": {
  "kernelspec": {
   "display_name": "Python 3",
   "language": "python",
   "name": "python3"
  },
  "language_info": {
   "codemirror_mode": {
    "name": "ipython",
    "version": 3
   },
   "file_extension": ".py",
   "mimetype": "text/x-python",
   "name": "python",
   "nbconvert_exporter": "python",
   "pygments_lexer": "ipython3",
   "version": "3.6.8"
  }
 },
 "nbformat": 4,
 "nbformat_minor": 2
}
